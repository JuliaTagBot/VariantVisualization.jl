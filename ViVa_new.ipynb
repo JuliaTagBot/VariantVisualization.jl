{
 "cells": [
  {
   "cell_type": "markdown",
   "metadata": {},
   "source": [
    "## ViVa VCF Visualizer - Version 0.2\n"
   ]
  },
  {
   "cell_type": "markdown",
   "metadata": {},
   "source": [
    "# These are the global variables you must define before running the notebook:\n",
    "### Required options:  \n",
    "\n",
    "#### `vcf_filename :: String` - This is a vector of filters that are applied to rows from the VCF file for visualization\n",
    "\n",
    "#### `field_to_visualize :: String` - This is a vector of filters that are applied to rows from the VCF file for visualization\n",
    "\n",
    "#### `variant_filter :: Vector{String}` - This is a vector of filters that are applied to rows from the VCF file for visualization\n",
    "#### e.g. \n",
    "`variant_filter = [\"pass_only\", \"chr1:20000000-30000000\"]`\n",
    "\n",
    "Variant_filter input options:\n",
    "- `\"all\"` = no filter, visualize all variants\n",
    "- `\"pass_only\"` = filter to select variant rows that pass samtools QC\n",
    "- `\"list.txt\"` = select variants that match a user produced list of variant chromosome positions\n",
    "- `\"chr1:20000000-30000000\"` = select variants within a genomic range in format \"chr1:20000000-30000000\"\n",
    "\n",
    "Sample_filter input options:\n",
    "- `\"select_columns\"` also requires -> `\"sample_id_list.txt\"`\n",
    "- `\"reorder_columns\"` also requires -> `\"phenotype_matrix.csv\"` & `\"phenotype_label_to_sort_by\"`\n",
    "\n",
    "#### `sample_filter :: Vector{String}` - This is a vector of filters that are applied to rows from the VCF file for visualization\n",
    "\n"
   ]
  },
  {
   "cell_type": "code",
   "execution_count": 4,
   "metadata": {
    "inputHidden": false,
    "outputHidden": false
   },
   "outputs": [
    {
     "name": "stderr",
     "output_type": "stream",
     "text": [
      "WARNING: Method definition jupyter_main(Any, Any, Any, Any, Any, Any) in module ViVa at /Users/George/projects_code/ViVa.jl/src/notebook_utils.jl:32 overwritten at /Users/George/projects_code/ViVa.jl/src/notebook_utils.jl:32.\n",
      "\u001b[1m\u001b[33mWARNING: \u001b[39m\u001b[22m\u001b[33mreplacing docs for 'ViVa.jupyter_main :: NTuple{6,Any}' in module 'ViVa'.\u001b[39m\n"
     ]
    },
    {
     "data": {
      "text/plain": [
       "\"Example_1\""
      ]
     },
     "execution_count": 4,
     "metadata": {},
     "output_type": "execute_result"
    }
   ],
   "source": [
    "vcf_file_name = \"variants.filtered.191_joint.vcf\"\n",
    "field_to_visualize = \"read_depth\" \n",
    "variant_filter = \"all\"\n",
    "sample_filter = \"select_columns\", \"select_column_list.txt\"\n",
    "save_format = \"png\"\n",
    "plot_title = \"Example_1\""
   ]
  },
  {
   "cell_type": "code",
   "execution_count": 3,
   "metadata": {},
   "outputs": [
    {
     "data": {
      "text/plain": [
       "\"Example_2\""
      ]
     },
     "execution_count": 3,
     "metadata": {},
     "output_type": "execute_result"
    }
   ],
   "source": [
    "vcf_filename = \"variants.filtered.191_joint.vcf\"\n",
    "field_to_visualize = \"genotype\" # field(s) = \"read_depth\", *etc.\n",
    "variant_filter = \"pass_only\", \"list\", \"significantList_for_proteinstructures.csv\"#\"range\", \"chr1:20000000-30000000\"\n",
    "sample_filter = \"reorder_columns\", \"sample_phenotype_matrix.csv\", \"case_control_status\" # \"select_columns\", \"select_column_list.txt\",\n",
    "save_format = \"pdf\"\n",
    "plot_title = \"Example_2\"\n",
    "\n",
    "\n"
   ]
  },
  {
   "cell_type": "markdown",
   "metadata": {},
   "source": [
    "### Notes to self\n",
    "1) define vcf in begin to save as original version for second analysis\n",
    "2) save notebook as script\n",
    "3) CSV.read.jl\n",
    "4) replace flag arguments (-a, -r, etc. with all, range, list, etc. and fix in notebook example inputs)\n",
    "5) turn interactive display plotlyJS off \n",
    "6) turn extraneous code to functions\n",
    "7) set default values - e.g. heatmap save to pdf by default\n",
    "8) set up vector\n",
    "9) categorical heatmap in PlotlyJS \n",
    "\n",
    "\n"
   ]
  },
  {
   "cell_type": "code",
   "execution_count": 6,
   "metadata": {
    "inputHidden": false,
    "outputHidden": false
   },
   "outputs": [
    {
     "name": "stdout",
     "output_type": "stream",
     "text": [
      "VCF file contains 24146 variant records across 191 samples\n"
     ]
    },
    {
     "ename": "LoadError",
     "evalue": "\u001b[91mMethodError: no method matching size(::String, ::Int64)\u001b[0m\nClosest candidates are:\n  size(::Any, ::Integer, \u001b[91m::Integer\u001b[39m, \u001b[91m::Integer...\u001b[39m) where N at abstractarray.jl:30\n  size(\u001b[91m::Char\u001b[39m, ::Any) at char.jl:14\n  size(\u001b[91m::BitArray{1}\u001b[39m, ::Any) at bitarray.jl:66\n  ...\u001b[39m",
     "output_type": "error",
     "traceback": [
      "\u001b[91mMethodError: no method matching size(::String, ::Int64)\u001b[0m\nClosest candidates are:\n  size(::Any, ::Integer, \u001b[91m::Integer\u001b[39m, \u001b[91m::Integer...\u001b[39m) where N at abstractarray.jl:30\n  size(\u001b[91m::Char\u001b[39m, ::Any) at char.jl:14\n  size(\u001b[91m::BitArray{1}\u001b[39m, ::Any) at bitarray.jl:66\n  ...\u001b[39m",
      "",
      "Stacktrace:",
      " [1] \u001b[1mjupyter_main\u001b[22m\u001b[22m\u001b[1m(\u001b[22m\u001b[22m::String, ::String, ::String, ::Tuple{String,String}, ::String, ::String\u001b[1m)\u001b[22m\u001b[22m at \u001b[1m/Users/George/projects_code/ViVa.jl/src/notebook_utils.jl:56\u001b[22m\u001b[22m"
     ]
    }
   ],
   "source": [
    "using ViVa\n",
    "\n",
    "ViVa.jupyter_main(vcf_filename,field_to_visualize,variant_filter,sample_filter,save_format,plot_title)\n"
   ]
  },
  {
   "cell_type": "code",
   "execution_count": 16,
   "metadata": {
    "inputHidden": false,
    "outputHidden": false
   },
   "outputs": [
    {
     "data": {
      "text/plain": [
       "24146×200 Array{Any,2}:\n",
       " \"1\"   11994687  0.0  \"T\"   \"C\"  …  \"0/0:24,0:24:63:0,63,945\"        \n",
       " \"1\"   11994701  0.0  \"G\"   \"A\"     \"0/0:27,0:27:81:0,81,958\"        \n",
       " \"1\"   11994760  0.0  \"G\"   \"A\"     \"0/0:35,0:35:99:0,102,1399\"      \n",
       " \"1\"   11994929  0.0  \"C\"   \"T\"     \"0/0:33,0:33:90:0,90,1350\"       \n",
       " \"1\"   11995005  0.0  \"T\"   \"C\"     \"0/0:11,0:11:33:0,33,401\"        \n",
       " \"1\"   12008203  0.0  \"C\"   \"T\"  …  \"0/0:251,0:251:99:0,120,1800\"    \n",
       " \"1\"   12009729  0.0  \"G\"   \"A\"     \"0/0:85,0:85:99:.:.:0,120,1800\"  \n",
       " \"1\"   12009731  0.0  \"C\"   \"A\"     \"0/0:85,0:85:99:.:.:0,120,1800\"  \n",
       " \"1\"   12009734  0.0  \"C\"   \"T\"     \"0/1:57,34:91:99:843,0,1746\"     \n",
       " \"1\"   12009749  0.0  \"T\"   \"A\"     \"0/0:94,0:94:99:.:.:0,120,1800\"  \n",
       " \"1\"   12009753  0.0  \"C\"   \"A\"  …  \"0/0:94,0:94:99:.:.:0,120,1800\"  \n",
       " \"1\"   12009754  0.0  \"A\"   \"G\"     \"0/0:94,0:94:99:.:.:0,120,1800\"  \n",
       " \"1\"   12009757  0.0  \"A\"   \"G\"     \"0/0:94,0:94:99:.:.:0,120,1800\"  \n",
       " ⋮                               ⋱                                   \n",
       " \"X\"  153279827  0.0  \"A\"   \"T\"     \"0/1:10,0:26:97:245,0,97\"        \n",
       " \"X\"  153282020  0.0  \"G\"   \"A\"  …  \"0/0:70,0:70:99:0,120,1800\"      \n",
       " \"X\"  153282340  0.0  \"G\"   \"T\"     \"0/0:42,0:42:99:0,102,1530\"      \n",
       " \"X\"  153282564  0.0  \"CT\"  \"C\"     \"0/0:42,0:42:99:0,102,1530\"      \n",
       " \"X\"  153282595  0.0  \"G\"   \"A\"     \"0/0:42,0:42:99:0,102,1530\"      \n",
       " \"X\"  153283434  0.0  \"C\"   \"T\"     \"0/0:55,0:55:99:0,120,1800\"      \n",
       " \"X\"  153284172  0.0  \"A\"   \"T\"  …  \"0/0:89,0:89:99:0,120,1800\"      \n",
       " \"X\"  153284192  0.0  \"A\"   \"G\"     \"1/1:0,211:211:99:.:.:7405,634,0\"\n",
       " \"X\"  153284198  0.0  \"C\"   \"T\"     \"0/0:116,0:116:99:.:.:0,120,1800\"\n",
       " \"X\"  153284407  0.0  \"G\"   \"A\"     \"0/0:116,0:116:99:0,120,1800\"    \n",
       " \"X\"  153284483  0.0  \"G\"   \"A\"     \"1/1:0,156:156:99:5409,469,0\"    \n",
       " \"X\"  153285083  0.0  \"G\"   \"A\"  …  \"0/0:37,0:37:99:0,99,1485\"       "
      ]
     },
     "execution_count": 16,
     "metadata": {},
     "output_type": "execute_result"
    }
   ],
   "source": [
    "readvcf = readlines(vcf_filename)\n",
    "\n",
    "for row = 1:size(readvcf,1)\n",
    "\n",
    "      if contains(readvcf[row], \"#CHROM\")\n",
    "          header_col = row\n",
    "          global header_col\n",
    "          header_string = readvcf[row]\n",
    "      end\n",
    "end\n",
    "\n",
    "df_withsamplenames = CSV.read(vcf_filename, delim=\"\\t\", datarow = header_col+1, header = false, types=Dict(1=>String))\n",
    "Base.promote_rule(::Type{C}, ::Type{Any}) where {C <: CategoricalArrays.CatValue} = Any\n",
    "matr=Matrix(df_withsamplenames)\n",
    "\n",
    "#vcf_csv=CSV.read(vcf_filename, delim=\"\\t\", datarow = header_col+1, header = header_col, types=Dict(1=>String))"
   ]
  },
  {
   "cell_type": "code",
   "execution_count": 13,
   "metadata": {
    "inputHidden": false,
    "outputHidden": false
   },
   "outputs": [
    {
     "data": {
      "text/plain": [
       "24146×200 Array{Any,2}:\n",
       " \"1\"   11994687  0.0  \"T\"   \"C\"  …  \"0/0:24,0:24:63:0,63,945\"        \n",
       " \"1\"   11994701  0.0  \"G\"   \"A\"     \"0/0:27,0:27:81:0,81,958\"        \n",
       " \"1\"   11994760  0.0  \"G\"   \"A\"     \"0/0:35,0:35:99:0,102,1399\"      \n",
       " \"1\"   11994929  0.0  \"C\"   \"T\"     \"0/0:33,0:33:90:0,90,1350\"       \n",
       " \"1\"   11995005  0.0  \"T\"   \"C\"     \"0/0:11,0:11:33:0,33,401\"        \n",
       " \"1\"   12008203  0.0  \"C\"   \"T\"  …  \"0/0:251,0:251:99:0,120,1800\"    \n",
       " \"1\"   12009729  0.0  \"G\"   \"A\"     \"0/0:85,0:85:99:.:.:0,120,1800\"  \n",
       " \"1\"   12009731  0.0  \"C\"   \"A\"     \"0/0:85,0:85:99:.:.:0,120,1800\"  \n",
       " \"1\"   12009734  0.0  \"C\"   \"T\"     \"0/1:57,34:91:99:843,0,1746\"     \n",
       " \"1\"   12009749  0.0  \"T\"   \"A\"     \"0/0:94,0:94:99:.:.:0,120,1800\"  \n",
       " \"1\"   12009753  0.0  \"C\"   \"A\"  …  \"0/0:94,0:94:99:.:.:0,120,1800\"  \n",
       " \"1\"   12009754  0.0  \"A\"   \"G\"     \"0/0:94,0:94:99:.:.:0,120,1800\"  \n",
       " \"1\"   12009757  0.0  \"A\"   \"G\"     \"0/0:94,0:94:99:.:.:0,120,1800\"  \n",
       " ⋮                               ⋱                                   \n",
       " \"X\"  153279827  0.0  \"A\"   \"T\"     \"0/1:10,0:26:97:245,0,97\"        \n",
       " \"X\"  153282020  0.0  \"G\"   \"A\"  …  \"0/0:70,0:70:99:0,120,1800\"      \n",
       " \"X\"  153282340  0.0  \"G\"   \"T\"     \"0/0:42,0:42:99:0,102,1530\"      \n",
       " \"X\"  153282564  0.0  \"CT\"  \"C\"     \"0/0:42,0:42:99:0,102,1530\"      \n",
       " \"X\"  153282595  0.0  \"G\"   \"A\"     \"0/0:42,0:42:99:0,102,1530\"      \n",
       " \"X\"  153283434  0.0  \"C\"   \"T\"     \"0/0:55,0:55:99:0,120,1800\"      \n",
       " \"X\"  153284172  0.0  \"A\"   \"T\"  …  \"0/0:89,0:89:99:0,120,1800\"      \n",
       " \"X\"  153284192  0.0  \"A\"   \"G\"     \"1/1:0,211:211:99:.:.:7405,634,0\"\n",
       " \"X\"  153284198  0.0  \"C\"   \"T\"     \"0/0:116,0:116:99:.:.:0,120,1800\"\n",
       " \"X\"  153284407  0.0  \"G\"   \"A\"     \"0/0:116,0:116:99:0,120,1800\"    \n",
       " \"X\"  153284483  0.0  \"G\"   \"A\"     \"1/1:0,156:156:99:5409,469,0\"    \n",
       " \"X\"  153285083  0.0  \"G\"   \"A\"  …  \"0/0:37,0:37:99:0,99,1485\"       "
      ]
     },
     "execution_count": 13,
     "metadata": {},
     "output_type": "execute_result"
    }
   ],
   "source": [
    "matr"
   ]
  },
  {
   "cell_type": "code",
   "execution_count": null,
   "metadata": {
    "inputHidden": false,
    "outputHidden": false
   },
   "outputs": [],
   "source": []
  }
 ],
 "metadata": {
  "kernel_info": {
   "name": "julia-0.6"
  },
  "kernelspec": {
   "display_name": "Julia 0.6.3",
   "language": "julia",
   "name": "julia-0.6"
  },
  "language_info": {
   "file_extension": ".jl",
   "mimetype": "application/julia",
   "name": "julia",
   "version": "0.6.3"
  },
  "nteract": {
   "version": "0.8.4"
  }
 },
 "nbformat": 4,
 "nbformat_minor": 2
}
