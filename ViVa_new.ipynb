{
  "cells": [
    {
      "cell_type": "markdown",
      "source": [
        "## ViVa VCF Visualizer - Version 0.2\n"
      ],
      "metadata": {}
    },
    {
      "cell_type": "markdown",
      "source": [
        "## Upload VCF and choose visualization settings"
      ],
      "metadata": {
        "collapsed": false,
        "outputHidden": false,
        "inputHidden": false
      }
    },
    {
      "cell_type": "code",
      "source": [
        "vcf_filename = \"variants.filtered.191_joint.vcf\"\n",
        "field_to_visualize = \"genotype\" # field(s) = \"read_depth\", *etc.\n",
        "variant_filter = \"pass_only\" , \"list\", \"significantList_for_proteinstructures.csv\"#\"range\", \"chr1:20000000-30000000\"\n",
        "sample_filter = \"reorder_columns\", \"sample_phenotype_matrix.csv\", \"case_control_status\" # \"select_columns\", \"select_column_list.txt\",\n",
        "save_format = \"pdf\"\n",
        "plot_title = \"title_here\"\n",
        ";\n",
        "\n",
        "#issue - if select only one filter - error occurs because cant take size(String,1)\n",
        "#use for variant_filter[1:end]\n",
        "\n\n"
      ],
      "outputs": [],
      "execution_count": 9,
      "metadata": {}
    },
    {
      "cell_type": "markdown",
      "source": [
        "## Once settings are chosen, run notebook."
      ],
      "metadata": {}
    },
    {
      "cell_type": "code",
      "source": [
        "using DataFrames #use CSV.jl ? depwarnings\n",
        "using CSV\n",
        "using PlotlyJS\n",
        "using Rsvg\n",
        "using Blink\n",
        "using ViVa\n",
        "\n@time ViVa.jupyter_main(vcf_filename,field_to_visualize,variant_filter,sample_filter,save_format,plot_title)"
      ],
      "outputs": [
        {
          "output_type": "stream",
          "name": "stderr",
          "text": [
            "\u001b[1m\u001b[33mWARNING: \u001b[39m\u001b[22m\u001b[33momitting /Users/George/projects_code/ViVa.jl/src/notebook_utils.jl due to parsing error near line 24\u001b[39m\n",
            "ParseError(\"missing last argument in \\\"1:\\\" range expression \")\n",
            "\u001b[1m\u001b[33mWARNING: \u001b[39m\u001b[22m\u001b[33mreadtable is deprecated, use CSV.read from the CSV package instead\u001b[39m\n",
            "Stacktrace:\n",
            " [1] \u001b[1mdepwarn\u001b[22m\u001b[22m\u001b[1m(\u001b[22m\u001b[22m::String, ::Symbol\u001b[1m)\u001b[22m\u001b[22m at \u001b[1m./deprecated.jl:70\u001b[22m\u001b[22m\n",
            " [2] \u001b[1m#readtable#229\u001b[22m\u001b[22m\u001b[1m(\u001b[22m\u001b[22m::Bool, ::Char, ::Array{Char,1}, ::Char, ::Array{String,1}, ::Array{String,1}, ::Array{String,1}, ::Bool, ::Int64, ::Array{Symbol,1}, ::Array{Any,1}, ::Bool, ::Char, ::Bool, ::Int64, ::Array{Int64,1}, ::Bool, ::Symbol, ::Bool, ::Bool, ::DataFrames.#readtable, ::String\u001b[1m)\u001b[22m\u001b[22m at \u001b[1m/Users/George/.julia/v0.6/DataFrames/src/deprecated.jl:1045\u001b[22m\u001b[22m\n",
            " [3] \u001b[1m(::DataFrames.#kw##readtable)\u001b[22m\u001b[22m\u001b[1m(\u001b[22m\u001b[22m::Array{Any,1}, ::DataFrames.#readtable, ::String\u001b[1m)\u001b[22m\u001b[22m at \u001b[1m./<missing>:0\u001b[22m\u001b[22m\n",
            " [4] \u001b[1mload_vcf\u001b[22m\u001b[22m\u001b[1m(\u001b[22m\u001b[22m::String\u001b[1m)\u001b[22m\u001b[22m at \u001b[1m/Users/George/projects_code/ViVa.jl/src/vcf_utils.jl:62\u001b[22m\u001b[22m\n",
            " [5] \u001b[1mjupyter_main\u001b[22m\u001b[22m\u001b[1m(\u001b[22m\u001b[22m::String, ::String, ::String, ::Tuple{String,String,String}, ::String, ::String\u001b[1m)\u001b[22m\u001b[22m at \u001b[1m/Users/George/projects_code/ViVa.jl/src/notebook_utils.jl:11\u001b[22m\u001b[22m\n",
            " [6] \u001b[1minclude_string\u001b[22m\u001b[22m\u001b[1m(\u001b[22m\u001b[22m::String, ::String\u001b[1m)\u001b[22m\u001b[22m at \u001b[1m./loading.jl:515\u001b[22m\u001b[22m\n",
            " [7] \u001b[1mexecute_request\u001b[22m\u001b[22m\u001b[1m(\u001b[22m\u001b[22m::ZMQ.Socket, ::IJulia.Msg\u001b[1m)\u001b[22m\u001b[22m at \u001b[1m/Users/George/.julia/v0.6/IJulia/src/execute_request.jl:158\u001b[22m\u001b[22m\n",
            " [8] \u001b[1m(::Compat.#inner#18{Array{Any,1},IJulia.#execute_request,Tuple{ZMQ.Socket,IJulia.Msg}})\u001b[22m\u001b[22m\u001b[1m(\u001b[22m\u001b[22m\u001b[1m)\u001b[22m\u001b[22m at \u001b[1m/Users/George/.julia/v0.6/Compat/src/Compat.jl:386\u001b[22m\u001b[22m\n",
            " [9] \u001b[1meventloop\u001b[22m\u001b[22m\u001b[1m(\u001b[22m\u001b[22m::ZMQ.Socket\u001b[1m)\u001b[22m\u001b[22m at \u001b[1m/Users/George/.julia/v0.6/IJulia/src/eventloop.jl:8\u001b[22m\u001b[22m\n",
            " [10] \u001b[1m(::IJulia.##14#17)\u001b[22m\u001b[22m\u001b[1m(\u001b[22m\u001b[22m\u001b[1m)\u001b[22m\u001b[22m at \u001b[1m./task.jl:335\u001b[22m\u001b[22m\n",
            "while loading In[11], in expression starting on line 237\n"
          ]
        },
        {
          "output_type": "error",
          "ename": "LoadError",
          "evalue": "\u001b[91mMethodError: no method matching size(::String, ::Int64)\u001b[0m\nClosest candidates are:\n  size(::Any, ::Integer, \u001b[91m::Integer\u001b[39m, \u001b[91m::Integer...\u001b[39m) where N at abstractarray.jl:30\n  size(\u001b[91m::Char\u001b[39m, ::Any) at char.jl:14\n  size(\u001b[91m::BitArray{1}\u001b[39m, ::Any) at bitarray.jl:66\n  ...\u001b[39m",
          "traceback": [
            "\u001b[91mMethodError: no method matching size(::String, ::Int64)\u001b[0m\nClosest candidates are:\n  size(::Any, ::Integer, \u001b[91m::Integer\u001b[39m, \u001b[91m::Integer...\u001b[39m) where N at abstractarray.jl:30\n  size(\u001b[91m::Char\u001b[39m, ::Any) at char.jl:14\n  size(\u001b[91m::BitArray{1}\u001b[39m, ::Any) at bitarray.jl:66\n  ...\u001b[39m",
            "",
            "Stacktrace:",
            " [1] \u001b[1mjupyter_main\u001b[22m\u001b[22m\u001b[1m(\u001b[22m\u001b[22m::String, ::String, ::String, ::Tuple{String,String,String}, ::String, ::String\u001b[1m)\u001b[22m\u001b[22m at \u001b[1m/Users/George/projects_code/ViVa.jl/src/notebook_utils.jl:23\u001b[22m\u001b[22m"
          ]
        }
      ],
      "execution_count": 11,
      "metadata": {}
    },
    {
      "cell_type": "code",
      "source": [],
      "outputs": [],
      "execution_count": null,
      "metadata": {
        "collapsed": false,
        "outputHidden": false,
        "inputHidden": false
      }
    },
    {
      "cell_type": "markdown",
      "source": [
        "# These are the global variables you must define before running the notebook:\n",
        "### Required options:  \n",
        "\n",
        "#### `vcf_filename :: String` - This is a vector of filters that are applied to rows from the VCF file for visualization\n",
        "\n",
        "#### `field_to_visualize :: String` - This is a vector of filters that are applied to rows from the VCF file for visualization\n",
        "\n",
        "#### `variant_filter :: Vector{String}` - This is a vector of filters that are applied to rows from the VCF file for visualization\n",
        "#### e.g. \n",
        "`variant_filter = [\"pass_only\", \"chr1:20000000-30000000\"]`\n",
        "\n",
        "Variant_filter input options:\n",
        "- `\"all\"` = no filter, visualize all variants\n",
        "- `\"pass_only\"` = filter to select variant rows that pass samtools QC\n",
        "- `\"list.txt\"` = select variants that match a user produced list of variant chromosome positions\n",
        "- `\"chr1:20000000-30000000\"` = select variants within a genomic range in format \"chr1:20000000-30000000\"\n",
        "\n",
        "Sample_filter input options:\n",
        "- `\"select_columns\"` also requires -> `\"sample_id_list.txt\"`\n",
        "- `\"reorder_columns\"` also requires -> `\"phenotype_matrix.csv\"` & `\"phenotype_label_to_sort_by\"`\n",
        "\n",
        "#### `sample_filter :: Vector{String}` - This is a vector of filters that are applied to rows from the VCF file for visualization\n",
        "\n"
      ],
      "metadata": {}
    }
  ],
  "metadata": {
    "kernelspec": {
      "name": "julia-0.6",
      "language": "julia",
      "display_name": "Julia 0.6.0"
    },
    "language_info": {
      "file_extension": ".jl",
      "name": "julia",
      "mimetype": "application/julia",
      "version": "0.6.0"
    },
    "kernel_info": {
      "name": "julia-0.6"
    },
    "nteract": {
      "version": "0.8.4"
    }
  },
  "nbformat": 4,
  "nbformat_minor": 2
}