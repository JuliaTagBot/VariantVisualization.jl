{
 "cells": [
  {
   "cell_type": "markdown",
   "metadata": {},
   "source": [
    "# These are the global variables you must define before running the notebook:\n",
    "### Required options:  \n",
    "\n",
    "#### `vcf_filename :: String` - This is a vector of filters that are applied to rows from the VCF file for visualization\n",
    "\n",
    "#### `field_to_visualize :: String` - This is a vector of filters that are applied to rows from the VCF file for visualization\n",
    "\n",
    "#### `variant_filter :: Vector{String}` - This is a vector of filters that are applied to rows from the VCF file for visualization\n",
    "\n",
    "variant_filter input options:\n",
    "- `\"all\"` = no filter, visualize all variants\n",
    "- `\"pass_only\"` = filter to select variant rows that pass samtools QC\n",
    "- `\"list\",\"list.txt\"` = select variants that match a user produced list of variant chromosome positions\n",
    "- `\"range\",\"chr1:20000000-30000000\"` = select variants within a genomic range in format \"chr1:20000000-30000000\"\n",
    "#### e.g. \n",
    "`variant_filter = [\"pass_only\", \"range\",\"chr1:20000000-30000000\"]`\n",
    "\n",
    "#### `sample_filter :: Vector{String}` - This is a vector of filters that are applied to rows from the VCF file for visualization\n",
    "\n",
    "sample_filter input options:\n",
    "- `\"select_columns\",\"sample_id_list.txt\"`\n",
    "- `\"reorder_columns\",\"phenotype_matrix.csv\",\"phenotype_label_to_sort_by\"`\n",
    "#### e.g. \n",
    "`sample_filter = [\"select_columns\",\"sample_id_list.txt\"]`\n",
    "\n",
    "#### `plot_types :: Vector{String}` - This is a vector of types of plots to generate from data\n",
    "\n",
    "plot_types input options:\n",
    "- `\"heatmap\"` = create heatmap of either genotype or read depth data (per \"field to visualize choice\")\n",
    "- `\"sample_line_chart\"` = create line chart of average read depth for each sample \n",
    "- `\"variant_line_chart\"` = create line chart of average read depth for each variant \n",
    "\n",
    "\n",
    "\n"
   ]
  },
  {
   "cell_type": "code",
   "execution_count": 9,
   "metadata": {},
   "outputs": [
    {
     "data": {
      "text/plain": [
       "\"Read_depth_test\""
      ]
     },
     "execution_count": 9,
     "metadata": {},
     "output_type": "execute_result"
    }
   ],
   "source": [
    "vcf_filename = \"test_4X_191.vcf\"\n",
    "field_to_visualize = \"read_depth\" # field(s) = \"read_depth\", *etc.\n",
    "variant_filter = [\"range\",\"chr4:0-4000000000\"] #\"range\",\"chr4:0-4000000000\"\n",
    "sample_filter = [\"reorder_columns\", \"sample_phenotype_matrix.csv\", \"case_control_status\"] # \"select_columns\", \"select_column_list.txt\",\n",
    "plot_types = \"sample_line_chart\"\n",
    "save_format = \"html\"\n",
    "plot_title = \"Read_depth_test\"\n"
   ]
  },
  {
   "cell_type": "code",
   "execution_count": 11,
   "metadata": {
    "scrolled": true
   },
   "outputs": [
    {
     "name": "stderr",
     "output_type": "stream",
     "text": [
      "WARNING: Method definition jupyter_main_new(String, String, Array{String, 1}, Array{String, 1}, String, String, String) in module ViVa at /Users/George/projects_code/ViVa.jl/src/new_notebook_utils.jl:9 overwritten at /Users/George/projects_code/ViVa.jl/src/new_notebook_utils.jl:9.\n",
      "\u001b[1m\u001b[33mWARNING: \u001b[39m\u001b[22m\u001b[33mreplacing docs for 'ViVa.jupyter_main_new :: Tuple{String,String,Array{String,1},Array{String,1},String,String,String}' in module 'ViVa'.\u001b[39m\n"
     ]
    },
    {
     "name": "stdout",
     "output_type": "stream",
     "text": [
      "loading packages...\n",
      "finished loading packages\n",
      "Reading test_4X_191.vcf\n",
      "chr4:0-4000000000\n"
     ]
    },
    {
     "ename": "LoadError",
     "evalue": "\u001b[91mUndefVarError: list_sample_positions_low_dp not defined\u001b[39m",
     "output_type": "error",
     "traceback": [
      "\u001b[91mUndefVarError: list_sample_positions_low_dp not defined\u001b[39m",
      "",
      "Stacktrace:",
      " [1] \u001b[1mjupyter_main_new\u001b[22m\u001b[22m\u001b[1m(\u001b[22m\u001b[22m::String, ::String, ::Array{String,1}, ::Array{String,1}, ::String, ::String, ::String\u001b[1m)\u001b[22m\u001b[22m at \u001b[1m/Users/George/projects_code/ViVa.jl/src/new_notebook_utils.jl:195\u001b[22m\u001b[22m"
     ]
    },
    {
     "name": "stdout",
     "output_type": "stream",
     "text": [
      "selected 1012 variants within chromosome range: chr4:0-4000000000)\n",
      "sorting columns by case_control_status in sample_phenotype_matrix.csv\n",
      "plotting read depth\n"
     ]
    }
   ],
   "source": [
    "using ViVa\n",
    "using GeneticVariation\n",
    "using VCFTools\n",
    "plot=ViVa.jupyter_main_new(vcf_filename,field_to_visualize,variant_filter,sample_filter,plot_types,save_format,plot_title)\n"
   ]
  },
  {
   "cell_type": "code",
   "execution_count": null,
   "metadata": {},
   "outputs": [],
   "source": []
  }
 ],
 "metadata": {
  "kernelspec": {
   "display_name": "Julia 0.6.3",
   "language": "julia",
   "name": "julia-0.6"
  },
  "language_info": {
   "file_extension": ".jl",
   "mimetype": "application/julia",
   "name": "julia",
   "version": "0.6.3"
  }
 },
 "nbformat": 4,
 "nbformat_minor": 2
}
