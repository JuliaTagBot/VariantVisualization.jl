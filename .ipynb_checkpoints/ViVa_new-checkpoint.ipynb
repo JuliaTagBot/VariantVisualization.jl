{
 "cells": [
  {
   "cell_type": "markdown",
   "metadata": {},
   "source": [
    "## ViVa VCF Visualizer - Version 0.2\n"
   ]
  },
  {
   "cell_type": "markdown",
   "metadata": {
    "inputHidden": false,
    "outputHidden": false
   },
   "source": [
    "## Upload VCF and choose visualization settings"
   ]
  },
  {
   "cell_type": "code",
   "execution_count": 2,
   "metadata": {},
   "outputs": [
    {
     "name": "stderr",
     "output_type": "stream",
     "text": [
      "WARNING: Method definition genotype_heatmap2(Any, Any) in module ViVa at /Users/George/projects_code/ViVa.jl/src/plot_utils.jl:12 overwritten at /Users/George/projects_code/ViVa.jl/src/plot_utils.jl:12.\n"
     ]
    }
   ],
   "source": [
    "vcf_filename = \"variants.filtered.191_joint.vcf\"\n",
    "field_to_visualize = \"genotype\" # field(s) = \"read_depth\", *etc.\n",
    "variant_filter = \"pass_only\", \"list\", \"significantList_for_proteinstructures.csv\"#\"range\", \"chr1:20000000-30000000\"\n",
    "sample_filter = \"reorder_columns\", \"sample_phenotype_matrix.csv\", \"case_control_status\" # \"select_columns\", \"select_column_list.txt\",\n",
    "save_format = \"pdf\"\n",
    "plot_title = \"title_here\"\n",
    ";\n",
    "\n",
    "\n"
   ]
  },
  {
   "cell_type": "markdown",
   "metadata": {},
   "source": [
    "## Once settings are chosen, run notebook."
   ]
  },
  {
   "cell_type": "code",
   "execution_count": null,
   "metadata": {
    "scrolled": false
   },
   "outputs": [
    {
     "name": "stderr",
     "output_type": "stream",
     "text": [
      "\u001b[1m\u001b[33mWARNING: \u001b[39m\u001b[22m\u001b[33mreadtable is deprecated, use CSV.read from the CSV package instead\u001b[39m\n",
      "Stacktrace:\n",
      " [1] \u001b[1mdepwarn\u001b[22m\u001b[22m\u001b[1m(\u001b[22m\u001b[22m::String, ::Symbol\u001b[1m)\u001b[22m\u001b[22m at \u001b[1m./deprecated.jl:70\u001b[22m\u001b[22m\n",
      " [2] \u001b[1m#readtable#229\u001b[22m\u001b[22m\u001b[1m(\u001b[22m\u001b[22m::Bool, ::Char, ::Array{Char,1}, ::Char, ::Array{String,1}, ::Array{String,1}, ::Array{String,1}, ::Bool, ::Int64, ::Array{Symbol,1}, ::Array{Any,1}, ::Bool, ::Char, ::Bool, ::Int64, ::Array{Int64,1}, ::Bool, ::Symbol, ::Bool, ::Bool, ::DataFrames.#readtable, ::String\u001b[1m)\u001b[22m\u001b[22m at \u001b[1m/Users/George/.julia/v0.6/DataFrames/src/deprecated.jl:1045\u001b[22m\u001b[22m\n",
      " [3] "
     ]
    }
   ],
   "source": [
    "using DataFrames #use CSV.jl ? depwarnings\n",
    "using CSV\n",
    "using PlotlyJS\n",
    "using Rsvg\n",
    "using Blink\n",
    "using ViVa\n",
    "\n",
    "@time ViVa.jupyter_main(vcf_filename,field_to_visualize,variant_filter,sample_filter,save_format,plot_title)"
   ]
  },
  {
   "cell_type": "code",
   "execution_count": null,
   "metadata": {
    "inputHidden": false,
    "outputHidden": false
   },
   "outputs": [],
   "source": []
  },
  {
   "cell_type": "markdown",
   "metadata": {},
   "source": [
    "# These are the global variables you must define before running the notebook:\n",
    "### Required options:  \n",
    "\n",
    "#### `vcf_filename :: String` - This is a vector of filters that are applied to rows from the VCF file for visualization\n",
    "\n",
    "#### `field_to_visualize :: String` - This is a vector of filters that are applied to rows from the VCF file for visualization\n",
    "\n",
    "#### `variant_filter :: Vector{String}` - This is a vector of filters that are applied to rows from the VCF file for visualization\n",
    "#### e.g. \n",
    "`variant_filter = [\"pass_only\", \"chr1:20000000-30000000\"]`\n",
    "\n",
    "Variant_filter input options:\n",
    "- `\"all\"` = no filter, visualize all variants\n",
    "- `\"pass_only\"` = filter to select variant rows that pass samtools QC\n",
    "- `\"list.txt\"` = select variants that match a user produced list of variant chromosome positions\n",
    "- `\"chr1:20000000-30000000\"` = select variants within a genomic range in format \"chr1:20000000-30000000\"\n",
    "\n",
    "Sample_filter input options:\n",
    "- `\"select_columns\"` also requires -> `\"sample_id_list.txt\"`\n",
    "- `\"reorder_columns\"` also requires -> `\"phenotype_matrix.csv\"` & `\"phenotype_label_to_sort_by\"`\n",
    "\n",
    "#### `sample_filter :: Vector{String}` - This is a vector of filters that are applied to rows from the VCF file for visualization\n",
    "\n"
   ]
  }
 ],
 "metadata": {
  "kernel_info": {
   "name": "julia-0.6"
  },
  "kernelspec": {
   "display_name": "Julia 0.6.0",
   "language": "julia",
   "name": "julia-0.6"
  },
  "language_info": {
   "file_extension": ".jl",
   "mimetype": "application/julia",
   "name": "julia",
   "version": "0.6.0"
  },
  "nteract": {
   "version": "0.8.4"
  }
 },
 "nbformat": 4,
 "nbformat_minor": 2
}
