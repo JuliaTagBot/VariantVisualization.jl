{
 "cells": [
  {
   "cell_type": "markdown",
   "metadata": {},
   "source": [
    "# Trouble Shooting"
   ]
  },
  {
   "cell_type": "code",
   "execution_count": 14,
   "metadata": {},
   "outputs": [],
   "source": [
    "using ViVa"
   ]
  },
  {
   "cell_type": "code",
   "execution_count": 2,
   "metadata": {},
   "outputs": [
    {
     "data": {
      "text/plain": [
       "\"Example_2\""
      ]
     },
     "execution_count": 2,
     "metadata": {},
     "output_type": "execute_result"
    }
   ],
   "source": [
    "vcf_filename = \"variants.filtered.191_joint.vcf\"\n",
    "field_to_visualize = \"genotype\" # field(s) = \"read_depth\", *etc.\n",
    "variant_filter = \"pass_only\" #, \"list\", \"significantList_for_proteinstructures.csv\"#\"range\", \"chr1:20000000-30000000\"\n",
    "sample_filter = \"none\" # \"reorder_columns\", \"sample_phenotype_matrix.csv\", \"case_control_status\" # \"select_columns\", \"select_column_list.txt\",\n",
    "save_format = \"pdf\"\n",
    "plot_title = \"Example_2\""
   ]
  },
  {
   "cell_type": "code",
   "execution_count": 15,
   "metadata": {},
   "outputs": [
    {
     "data": {
      "text/plain": [
       "1"
      ]
     },
     "execution_count": 15,
     "metadata": {},
     "output_type": "execute_result"
    }
   ],
   "source": [
    "vcf_tuple = ViVa.load_vcf(vcf_filename)\n",
    "original_vcf = vcf_tuple[1]\n",
    "df_vcf = vcf_tuple[2]\n",
    "vcf = original_vcf\n",
    "\n",
    "index = ViVa.format_reader(vcf, field_to_visualize)\n"
   ]
  },
  {
   "cell_type": "code",
   "execution_count": 5,
   "metadata": {},
   "outputs": [],
   "source": []
  },
  {
   "cell_type": "code",
   "execution_count": 16,
   "metadata": {},
   "outputs": [
    {
     "data": {
      "text/plain": [
       "14858×200 Array{Any,2}:\n",
       "  1   11994687  0.0  \"T\"  \"C\"  …  \"0/0:24,0:24:63:0,63,945\"           \n",
       "  1   11994701  0.0  \"G\"  \"A\"     \"0/0:27,0:27:81:0,81,958\"           \n",
       "  1   11994760  0.0  \"G\"  \"A\"     \"0/0:35,0:35:99:0,102,1399\"         \n",
       "  1   11994929  0.0  \"C\"  \"T\"     \"0/0:33,0:33:90:0,90,1350\"          \n",
       "  1   11995005  0.0  \"T\"  \"C\"     \"0/0:11,0:11:33:0,33,401\"           \n",
       "  1   12008203  0.0  \"C\"  \"T\"  …  \"0/0:251,0:251:99:0,120,1800\"       \n",
       "  1   12009734  0.0  \"C\"  \"T\"     \"0/1:57,34:91:99:843,0,1746\"        \n",
       "  1   12009777  0.0  \"C\"  \"G\"     \"0/0:94,0:94:99:.:.:0,120,1800\"     \n",
       "  1   12009838  0.0  \"C\"  \"T\"     \"0/0:94,0:94:99:0,120,1800\"         \n",
       "  1   12009911  0.0  \"G\"  \"A\"     \"0/0:94,0:94:99:0,120,1800\"         \n",
       "  1   12009955  0.0  \"C\"  \"T\"  …  \"0/0:94,0:94:99:.:.:0,120,1800\"     \n",
       "  1   12009956  0.0  \"G\"  \"A\"     \"0/1:132,135:267:99:.:.:3965,0,3572\"\n",
       "  1   12009978  0.0  \"G\"  \"A\"     \"0/0:265,0:265:99:.:.:0,120,1800\"   \n",
       "  ⋮                            ⋱                                      \n",
       " 23  153278829  0.0  \"G\"  \"A\"     \"1/1:0,93:93:99:.:.:3284,279,0\"     \n",
       " 23  153279445  0.0  \"A\"  \"G\"     \"0/0:49,0:49:99:0,116,1731\"         \n",
       " 23  153279456  0.0  \"C\"  \"G\"     \"0/0:49,0:49:99:0,116,1731\"         \n",
       " 23  153282020  0.0  \"G\"  \"A\"     \"0/0:70,0:70:99:0,120,1800\"         \n",
       " 23  153282340  0.0  \"G\"  \"T\"  …  \"0/0:42,0:42:99:0,102,1530\"         \n",
       " 23  153282595  0.0  \"G\"  \"A\"     \"0/0:42,0:42:99:0,102,1530\"         \n",
       " 23  153283434  0.0  \"C\"  \"T\"     \"0/0:55,0:55:99:0,120,1800\"         \n",
       " 23  153284172  0.0  \"A\"  \"T\"     \"0/0:89,0:89:99:0,120,1800\"         \n",
       " 23  153284192  0.0  \"A\"  \"G\"     \"1/1:0,211:211:99:.:.:7405,634,0\"   \n",
       " 23  153284198  0.0  \"C\"  \"T\"  …  \"0/0:116,0:116:99:.:.:0,120,1800\"   \n",
       " 23  153284483  0.0  \"G\"  \"A\"     \"1/1:0,156:156:99:5409,469,0\"       \n",
       " 23  153285083  0.0  \"G\"  \"A\"     \"0/0:37,0:37:99:0,99,1485\"          "
      ]
     },
     "execution_count": 16,
     "metadata": {},
     "output_type": "execute_result"
    }
   ],
   "source": [
    "vcf=vcf[(vcf[:,7].== \"PASS\"),:]"
   ]
  },
  {
   "cell_type": "code",
   "execution_count": 17,
   "metadata": {},
   "outputs": [
    {
     "name": "stdout",
     "output_type": "stream",
     "text": [
      "Symbol[Symbol(\"#CHROM\"), :POS, :ID, :REF, :ALT, :QUAL, :FILTER, :INFO, :FORMAT, :MODcas1001, :MODcas1003, :MODcas1005, :MODcas1010, :MODcas1012, :MODcas1013, :MODcas1014, :MODcas1015, :MODcas1017, :MODcas1018, :MODcas1019, :MODcas1020, :MODcas1021, :MODcas1022, :MODcas1023, :MODcas1024, :MODcas2025, :MODcas2027, :MODcas2028, :MODcas2029, :MODcas2032, :MODcas2033, :MODcas2034, :MODcas2035, :MODcas2038, :MODcas2039, :MODcas2040, :MODcas2041, :MODcas2043, :MODcas2044, :MODcas2045, :MODcas2048, :MODcas3050, :MODcas3051, :MODcas3052, :MODcas3053, :MODcas3054, :MODcas3055, :MODcas3056, :MODcas3057, :MODcas3058, :MODcas3059, :MODcas3060, :MODcas3061, :MODcas3062, :MODcas3065, :MODcas3072, :MODcas3073, :MODcas3074, :MODcas3075, :MODcas3076, :MODcas3077, :MODcas3078, :MODcas3079, :MODcas3080, :MODcas3081, :MODcas3082, :MODcas3083, :MODcas3084, :MODcas3085, :MODcas3086, :MODcas3089, :MODcas3092, :MODcas3096, :MODcas4097, :MODcas4098, :MODcas4099, :MODcas4100, :MODcas4101, :MODcas4102, :MODcas4103, :MODcas4104, :MODcas4105, :MODcas4106, :MODcas4107, :MODcas4108, :MODcas4111, :MODcas4112, :MODcas4115, :MODcas4116, :MODcas4123, :MODcas4124, :MODcas4127, :MODcas4128, :MODcas4133, :MODcas4134, :MODcas4135, :MODcas4136, :MODcas4137, :MODcas4138, :MODcas4139, :MODcas4140, :MODcas4141, :MODcas4142, :MODcas4143, :MODcas4144, :MODcas5145, :MODcas5147, :MODcas5150, :MODcas5152, :MODcas5153, :MODcas5154, :MODcas5155, :MODcas5156, :MODcas5162, :MODcas5163, :MODcas5164, :MODcas5166, :MODcas5168, :MODcas5169, :MODcas5170, :MODcas5173, :MODcas5176, :MODcas5177, :MODcas5178, :MODcas5179, :MODcas5180, :MODcas5181, :MODcas5183, :MODcas5184, :MODcas5185, :MODcas5186, :MODcas5187, :MODcas5188, :MODcas5189, :MODcas5190, :MODcas5191, :MODcas5192, :MODcon1002, :MODcon1004, :MODcon1006, :MODcon1007, :MODcon1008, :MODcon1009, :MODcon1011, :MODcon1016, :MODcon2026, :MODcon2030, :MODcon2031, :MODcon2036, :MODcon2037, :MODcon2042, :MODcon2046, :MODcon2047, :MODcon3063, :MODcon3064, :MODcon3066, :MODcon3067, :MODcon3068, :MODcon3069, :MODcon3070, :MODcon3071, :MODcon3087, :MODcon3088, :MODcon3090, :MODcon3091, :MODcon3093, :MODcon3094, :MODcon3095, :MODcon4109, :MODcon4110, :MODcon4113, :MODcon4114, :MODcon4117, :MODcon4118, :MODcon4119, :MODcon4120, :MODcon4121, :MODcon4122, :MODcon4125, :MODcon4126, :MODcon4129, :MODcon4130, :MODcon4131, :MODcon4132, :MODcon5146, :MODcon5148, :MODcon5149, :MODcon5151, :MODcon5157, :MODcon5158, :MODcon5159, :MODcon5160, :MODcon5161, :MODcon5165, :MODcon5167, :MODcon5171, :MODcon5172, :MODcon5174, :MODcon5175, :MODcon5182]\n",
      "Any[Symbol(\"#CHROM\"), :POS, :ID, :REF, :ALT, :QUAL, :FILTER, :INFO, :FORMAT, :MODcon1002, \"MODcon1004\", \"MODcon1006\", \"MODcon1007\", \"MODcon1008\", \"MODcon1009\", \"MODcon1011\", \"MODcon1016\", \"MODcon2026\", \"MODcon2030\", \"MODcon2031\", \"MODcon2036\", \"MODcon2037\", \"MODcon2042\", \"MODcon2046\", \"MODcon2047\", \"MODcon3063\", \"MODcon3064\", \"MODcon3066\", \"MODcon3067\", \"MODcon3068\", \"MODcon3069\", \"MODcon3070\", \"MODcon3071\", \"MODcon3087\", \"MODcon3088\", \"MODcon3090\", \"MODcon3091\", \"MODcon3093\", \"MODcon3094\", \"MODcon3095\", \"MODcon4109\", \"MODcon4110\", \"MODcon4113\", \"MODcon4114\", \"MODcon4117\", \"MODcon4118\", \"MODcon4119\", \"MODcon4120\", \"MODcon4121\", \"MODcon4122\", \"MODcon4125\", \"MODcon4126\", \"MODcon4129\", \"MODcon4130\", \"MODcon4131\", \"MODcon4132\", \"MODcon5146\", \"MODcon5148\", \"MODcon5149\", \"MODcon5151\", \"MODcon5157\", \"MODcon5158\", \"MODcon5159\", \"MODcon5160\", \"MODcon5161\", \"MODcon5165\", \"MODcon5167\", \"MODcon5171\", \"MODcon5172\", \"MODcon5174\", \"MODcon5175\", \"MODcon5182\", \"MODcas1001\", \"MODcas1003\", \"MODcas1005\", \"MODcas1010\", \"MODcas1012\", \"MODcas1013\", \"MODcas1014\", \"MODcas1015\", \"MODcas1017\", \"MODcas1018\", \"MODcas1019\", \"MODcas1020\", \"MODcas1021\", \"MODcas1022\", \"MODcas1023\", \"MODcas1024\", \"MODcas2025\", \"MODcas2027\", \"MODcas2028\", \"MODcas2029\", \"MODcas2032\", \"MODcas2033\", \"MODcas2034\", \"MODcas2035\", \"MODcas2038\", \"MODcas2039\", \"MODcas2040\", \"MODcas2041\", \"MODcas2043\", \"MODcas2044\", \"MODcas2045\", \"MODcas2048\", \"MODcas3050\", \"MODcas3051\", \"MODcas3052\", \"MODcas3053\", \"MODcas3054\", \"MODcas3055\", \"MODcas3056\", \"MODcas3057\", \"MODcas3058\", \"MODcas3059\", \"MODcas3060\", \"MODcas3061\", \"MODcas3062\", \"MODcas3065\", \"MODcas3072\", \"MODcas3073\", \"MODcas3074\", \"MODcas3075\", \"MODcas3076\", \"MODcas3077\", \"MODcas3078\", \"MODcas3079\", \"MODcas3080\", \"MODcas3081\", \"MODcas3082\", \"MODcas3083\", \"MODcas3084\", \"MODcas3085\", \"MODcas3086\", \"MODcas3089\", \"MODcas3092\", \"MODcas3096\", \"MODcas4097\", \"MODcas4098\", \"MODcas4099\", \"MODcas4100\", \"MODcas4101\", \"MODcas4102\", \"MODcas4103\", \"MODcas4104\", \"MODcas4105\", \"MODcas4106\", \"MODcas4107\", \"MODcas4108\", \"MODcas4111\", \"MODcas4112\", \"MODcas4115\", \"MODcas4116\", \"MODcas4123\", \"MODcas4124\", \"MODcas4127\", \"MODcas4128\", \"MODcas4133\", \"MODcas4134\", \"MODcas4135\", \"MODcas4136\", \"MODcas4137\", \"MODcas4138\", \"MODcas4139\", \"MODcas4140\", \"MODcas4141\", \"MODcas4142\", \"MODcas4143\", \"MODcas4144\", \"MODcas5145\", \"MODcas5147\", \"MODcas5150\", \"MODcas5152\", \"MODcas5153\", \"MODcas5154\", \"MODcas5155\", \"MODcas5156\", \"MODcas5162\", \"MODcas5163\", \"MODcas5164\", \"MODcas5166\", \"MODcas5168\", \"MODcas5169\", \"MODcas5170\", \"MODcas5173\", \"MODcas5176\", \"MODcas5177\", \"MODcas5178\", \"MODcas5179\", \"MODcas5180\", \"MODcas5181\", \"MODcas5183\", \"MODcas5184\", \"MODcas5185\", \"MODcas5186\", \"MODcas5187\", \"MODcas5188\", \"MODcas5189\", \"MODcas5190\", \"MODcas5191\", \"MODcas5192\"]\n"
     ]
    },
    {
     "data": {
      "text/plain": [
       "14858×200 Array{Any,2}:\n",
       "  1   11994687  0.0  \"T\"  \"C\"  …  \"0/0:18,0:18:51:0,51,765\"         \n",
       "  1   11994701  0.0  \"G\"  \"A\"     \"0/0:19,0:19:51:0,51,765\"         \n",
       "  1   11994760  0.0  \"G\"  \"A\"     \"0/0:40,0:40:82:0,82,1164\"        \n",
       "  1   11994929  0.0  \"C\"  \"T\"     \"0/0:17,0:17:42:0,42,630\"         \n",
       "  1   11995005  0.0  \"T\"  \"C\"     \"0/0:5,0:5:9:0,9,135\"             \n",
       "  1   12008203  0.0  \"C\"  \"T\"  …  \"0/0:146,0:146:99:0,120,1800\"     \n",
       "  1   12009734  0.0  \"C\"  \"T\"     \"0/0:42,0:42:99:0,120,1800\"       \n",
       "  1   12009777  0.0  \"C\"  \"G\"     \"0/0:42,0:42:99:.:.:0,120,1800\"   \n",
       "  1   12009838  0.0  \"C\"  \"T\"     \"0/0:42,0:42:99:0,120,1800\"       \n",
       "  1   12009911  0.0  \"G\"  \"A\"     \"0/0:42,0:42:99:0,120,1800\"       \n",
       "  1   12009955  0.0  \"C\"  \"T\"  …  \"0/1:85,84:169:99:.:.:2524,0,2408\"\n",
       "  1   12009956  0.0  \"G\"  \"A\"     \"0/0:173,0:173:99:.:.:0,120,1800\" \n",
       "  1   12009978  0.0  \"G\"  \"A\"     \"0/0:173,0:173:99:.:.:0,120,1800\" \n",
       "  ⋮                            ⋱                                    \n",
       " 23  153278829  0.0  \"G\"  \"A\"     \"0/1:38,34:72:99:.:.:967,0,1005\"  \n",
       " 23  153279445  0.0  \"A\"  \"G\"     \"0/0:37,0:37:99:0,105,1575\"       \n",
       " 23  153279456  0.0  \"C\"  \"G\"     \"0/0:37,0:37:99:0,105,1575\"       \n",
       " 23  153282020  0.0  \"G\"  \"A\"     \"0/0:50,0:50:99:0,118,1773\"       \n",
       " 23  153282340  0.0  \"G\"  \"T\"  …  \"0/0:39,0:39:81:0,81,1360\"        \n",
       " 23  153282595  0.0  \"G\"  \"A\"     \"0/0:34,0:34:81:0,81,1215\"        \n",
       " 23  153283434  0.0  \"C\"  \"T\"     \"0/0:41,0:41:99:0,101,1509\"       \n",
       " 23  153284172  0.0  \"A\"  \"T\"     \"0/0:48,0:48:99:0,120,1800\"       \n",
       " 23  153284192  0.0  \"A\"  \"G\"     \"0/1:45,48:93:99:.:.:1426,0,1299\" \n",
       " 23  153284198  0.0  \"C\"  \"T\"  …  \"0/0:42,0:42:99:.:.:0,99,1485\"    \n",
       " 23  153284483  0.0  \"G\"  \"A\"     \"0/0:42,0:42:99:0,99,1485\"        \n",
       " 23  153285083  0.0  \"G\"  \"A\"     \"0/0:29,0:29:81:0,81,1215\"        "
      ]
     },
     "execution_count": 17,
     "metadata": {},
     "output_type": "execute_result"
    }
   ],
   "source": [
    "vcf = load_sort_phenotype_matrix(\"sample_phenotype_matrix.csv\", \"case_control_status\", vcf, df_vcf)"
   ]
  },
  {
   "cell_type": "code",
   "execution_count": 45,
   "metadata": {},
   "outputs": [
    {
     "name": "stdout",
     "output_type": "stream",
     "text": [
      "Array{Any,2}\n"
     ]
    },
    {
     "data": {
      "text/plain": [
       "14858×200 Array{Any,2}:\n",
       "  1   11994687  0.0  \"T\"  \"C\"  …  400  400  400  400  400  400  400\n",
       "  1   11994701  0.0  \"G\"  \"A\"     400  400  400  400  400  400  400\n",
       "  1   11994760  0.0  \"G\"  \"A\"     400  400  400  400  400  400  400\n",
       "  1   11994929  0.0  \"C\"  \"T\"     400  400  400  400  400  400  400\n",
       "  1   11995005  0.0  \"T\"  \"C\"     400  400  400  400  400  400  400\n",
       "  1   12008203  0.0  \"C\"  \"T\"  …  600  400  400  400  400  400  400\n",
       "  1   12009734  0.0  \"C\"  \"T\"     400  400  400  400  400  400  600\n",
       "  1   12009777  0.0  \"C\"  \"G\"     400  400  400  400  400  400  400\n",
       "  1   12009838  0.0  \"C\"  \"T\"     600  400  400  400  400  400  400\n",
       "  1   12009911  0.0  \"G\"  \"A\"     400  400  400  400  400  400  400\n",
       "  1   12009955  0.0  \"C\"  \"T\"  …  400  400  600  400  600  600  400\n",
       "  1   12009956  0.0  \"G\"  \"A\"     600  400  400  400  400  400  600\n",
       "  1   12009978  0.0  \"G\"  \"A\"     400  400  400  400  400  400  400\n",
       "  ⋮                            ⋱              ⋮                    \n",
       " 23  153278829  0.0  \"G\"  \"A\"     800  800  800  400  800  600  800\n",
       " 23  153279445  0.0  \"A\"  \"G\"     400  400  400  600  400  400  400\n",
       " 23  153279456  0.0  \"C\"  \"G\"     400  400  400  400  400  400  400\n",
       " 23  153282020  0.0  \"G\"  \"A\"     400  400  400  400  400  400  400\n",
       " 23  153282340  0.0  \"G\"  \"T\"  …  400  400  400  400  400  400  400\n",
       " 23  153282595  0.0  \"G\"  \"A\"     400  400  400  400  400  400  400\n",
       " 23  153283434  0.0  \"C\"  \"T\"     400  400  400  400  400  400  400\n",
       " 23  153284172  0.0  \"A\"  \"T\"     400  400  400  400  400  400  400\n",
       " 23  153284192  0.0  \"A\"  \"G\"     800  800  800  800  800  600  800\n",
       " 23  153284198  0.0  \"C\"  \"T\"  …  400  400  400  400  400  400  400\n",
       " 23  153284483  0.0  \"G\"  \"A\"     800  800  800  400  800  600  800\n",
       " 23  153285083  0.0  \"G\"  \"A\"     400  400  400  400  400  400  400"
      ]
     },
     "execution_count": 45,
     "metadata": {},
     "output_type": "execute_result"
    }
   ],
   "source": [
    "value_matrix = ViVa.genotype_cell_searcher(vcf,index)"
   ]
  },
  {
   "cell_type": "code",
   "execution_count": 40,
   "metadata": {},
   "outputs": [
    {
     "data": {
      "text/plain": [
       "Int64"
      ]
     },
     "execution_count": 40,
     "metadata": {},
     "output_type": "execute_result"
    }
   ],
   "source": [
    "typeof(value_matrix[2,40])"
   ]
  },
  {
   "cell_type": "code",
   "execution_count": null,
   "metadata": {},
   "outputs": [],
   "source": []
  },
  {
   "cell_type": "code",
   "execution_count": null,
   "metadata": {},
   "outputs": [],
   "source": []
  }
 ],
 "metadata": {
  "kernelspec": {
   "display_name": "Julia 0.6.3",
   "language": "julia",
   "name": "julia-0.6"
  },
  "language_info": {
   "file_extension": ".jl",
   "mimetype": "application/julia",
   "name": "julia",
   "version": "0.6.3"
  }
 },
 "nbformat": 4,
 "nbformat_minor": 2
}
